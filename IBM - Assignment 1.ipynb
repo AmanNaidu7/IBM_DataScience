{
 "cells": [
  {
   "cell_type": "markdown",
   "id": "c3764b9d",
   "metadata": {},
   "source": [
    "# IBM Data Science - Assignement 1"
   ]
  },
  {
   "cell_type": "markdown",
   "id": "d835e2e7",
   "metadata": {},
   "source": [
    "## Introduction"
   ]
  },
  {
   "cell_type": "markdown",
   "id": "b2ed5538",
   "metadata": {},
   "source": [
    "### Data Science Languages\n",
    "- Python\n",
    "- R\n",
    "- SQL"
   ]
  },
  {
   "cell_type": "markdown",
   "id": "34a4bc1e",
   "metadata": {},
   "source": [
    "### Data Science Libraries\n",
    "- Pandas\n",
    "- Numpy\n",
    "- Scikit-learn"
   ]
  },
  {
   "cell_type": "markdown",
   "id": "6ddcfa46",
   "metadata": {},
   "source": [
    "### Data Science Tools\n",
    "| Tool              | Description                                      |\n",
    "|-------------------|--------------------------------------------------|\n",
    "| Jupyter Notebook  | Interactive environment for coding, data analysis|\n",
    "| TensorFlow        | Open-source library for machine learning and AI  |\n",
    "| RStudio           | Integrated development environment for R         |\n",
    "| Apache Spark      | Unified analytics engine for big data processing |\n",
    "| Power BI          | Business intelligence tool for data visualization|\n"
   ]
  },
  {
   "cell_type": "markdown",
   "id": "9577bc64",
   "metadata": {},
   "source": [
    "### Arithmetic Expression Examples\n",
    "\n",
    "In data science and programming, arithmetic expressions are used to perform basic mathematical operations. Below are some common examples of arithmetic expressions:\n",
    "\n",
    "| Operation            | Expression      | Result   |\n",
    "|:---------------------|:----------------|:---------|\n",
    "| Addition             | `3 + 5`         | 8        |\n",
    "| Subtraction          | `10 - 4`        | 6        |\n",
    "| Multiplication       | `7 * 6`         | 42       |\n",
    "| Division             | `12 / 4`        | 3        |\n",
    "| Exponentiation       | `2 ** 3`        | 8        |\n",
    "| Modulus (Remainder)  | `10 % 3`        | 1        |"
   ]
  },
  {
   "cell_type": "code",
   "execution_count": 2,
   "id": "4f3517e5",
   "metadata": {},
   "outputs": [
    {
     "name": "stdout",
     "output_type": "stream",
     "text": [
      "The result of (a * b) + c is: 5\n"
     ]
    }
   ],
   "source": [
    "# Multiplication and addition example\n",
    "a = 1\n",
    "b = 2\n",
    "c = 3\n",
    "\n",
    "# Multiply a and b, then add c\n",
    "result = (a * b) + c\n",
    "\n",
    "# Display the result\n",
    "print(\"The result of (a * b) + c is:\", result)"
   ]
  },
  {
   "cell_type": "code",
   "execution_count": 4,
   "id": "14b7666f",
   "metadata": {},
   "outputs": [
    {
     "name": "stdout",
     "output_type": "stream",
     "text": [
      "150 minutes is equal to 2.5 hours.\n"
     ]
    }
   ],
   "source": [
    "# Conversion of minutes to hours\n",
    "minutes = 150  \n",
    "\n",
    "# Convert minutes to hours\n",
    "hours = minutes / 60\n",
    "\n",
    "# Display the result\n",
    "print(f\"{minutes} minutes is equal to {hours} hours.\")"
   ]
  },
  {
   "cell_type": "markdown",
   "id": "e9c7ceb3",
   "metadata": {},
   "source": [
    "# Objectives\n",
    "- Understand how to create and use arithmetic expressions in code.\n",
    "- Learn how to multiply and add numbers using Python.\n",
    "- Convert time units from minutes to hours using basic arithmetic.\n",
    "- Apply code cells and markdown cells effectively in Jupyter Notebook."
   ]
  },
  {
   "cell_type": "markdown",
   "id": "2b8cad08",
   "metadata": {},
   "source": [
    "# Author\n",
    "\n",
    "**Aman Naidu**\n"
   ]
  },
  {
   "cell_type": "code",
   "execution_count": null,
   "id": "a8e93081",
   "metadata": {},
   "outputs": [],
   "source": []
  }
 ],
 "metadata": {
  "kernelspec": {
   "display_name": "Python 3 (ipykernel)",
   "language": "python",
   "name": "python3"
  },
  "language_info": {
   "codemirror_mode": {
    "name": "ipython",
    "version": 3
   },
   "file_extension": ".py",
   "mimetype": "text/x-python",
   "name": "python",
   "nbconvert_exporter": "python",
   "pygments_lexer": "ipython3",
   "version": "3.11.5"
  }
 },
 "nbformat": 4,
 "nbformat_minor": 5
}
